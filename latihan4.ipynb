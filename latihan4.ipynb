{
 "cells": [
  {
   "cell_type": "code",
   "execution_count": 5,
   "metadata": {},
   "outputs": [
    {
     "name": "stdout",
     "output_type": "stream",
     "text": [
      "Selamat! Anda lulus.\n"
     ]
    }
   ],
   "source": [
    "nilai_al = 99\n",
    "if nilai_al >= 75:\n",
    "    print(\"Selamat! Anda lulus.\")\n",
    "else:\n",
    "    print(\"Mohon maaf, Anda belum lulus di mata  kuliah ini.\")"
   ]
  },
  {
   "cell_type": "code",
   "execution_count": 8,
   "metadata": {},
   "outputs": [
    {
     "name": "stdout",
     "output_type": "stream",
     "text": [
      "Nilai Anda: A\n"
     ]
    }
   ],
   "source": [
    "nilai_al = 99\n",
    "if nilai_al >= 86:\n",
    "    print(\"Nilai Anda: A\")\n",
    "elif nilai_al >= 80:\n",
    "    print(\"Nilai Anda: A-\")\n",
    "elif nilai_al >= 76:\n",
    "    print(\"Nilai Anda: B+\")\n",
    "elif nilai_al >= 70:\n",
    "    print(\"Nilai Anda: B\")\n",
    "elif nilai_al >= 66:\n",
    "    print(\"Nilai Anda: C\")\n",
    "elif nilai_al >= 60:\n",
    "    print(\"Nilai Anda: C-\")\n",
    "elif nilai_al >= 56:\n",
    "    print(\"Nilai Anda: D\")\n",
    "else:\n",
    "    print(\"Nilai Anda: E\")"
   ]
  },
  {
   "cell_type": "code",
   "execution_count": 9,
   "metadata": {},
   "outputs": [
    {
     "name": "stdout",
     "output_type": "stream",
     "text": [
      "lica\n",
      "dzikra\n",
      "akila\n",
      "angie\n",
      "audry\n",
      "aurel\n",
      "chilya\n",
      "dea\n",
      "lathifa\n"
     ]
    }
   ],
   "source": [
    "teman_teman_al_di_uns = [\"lica\", \"dzikra\", \"akila\", \"angie\", \"audry\", \"aurel\", \"chilya\", \"dea\", \"lathifa\"]\n",
    "for teman in teman_teman_al_di_uns:\n",
    "    print(teman)"
   ]
  },
  {
   "cell_type": "code",
   "execution_count": 10,
   "metadata": {},
   "outputs": [
    {
     "name": "stdout",
     "output_type": "stream",
     "text": [
      "A\n",
      "L\n",
      "R\n",
      "A\n",
      "N\n",
      "T\n",
      "I\n",
      "S\n",
      "A\n"
     ]
    }
   ],
   "source": [
    "for karakter in \"ALRANTISA\":\n",
    "    print(karakter)"
   ]
  },
  {
   "cell_type": "code",
   "execution_count": 14,
   "metadata": {},
   "outputs": [
    {
     "name": "stdout",
     "output_type": "stream",
     "text": [
      "0 lica\n",
      "1 dzikra\n",
      "2 akila\n",
      "3 angie\n",
      "4 audry\n",
      "5 aurel\n",
      "6 chilya\n",
      "7 dea\n",
      "8 lathifa\n"
     ]
    }
   ],
   "source": [
    "teman_teman_al_di_uns = [\"lica\", \"dzikra\", \"akila\", \"angie\", \"audry\", \"aurel\", \"chilya\", \"dea\", \"lathifa\"]\n",
    "for i, teman in enumerate(teman_teman_al_di_uns):\n",
    "    print(i, teman)"
   ]
  },
  {
   "cell_type": "code",
   "execution_count": 15,
   "metadata": {},
   "outputs": [
    {
     "name": "stdout",
     "output_type": "stream",
     "text": [
      "1  kuadrat adalah  1\n",
      "2  kuadrat adalah  4\n",
      "3  kuadrat adalah  9\n",
      "4  kuadrat adalah  16\n",
      "5  kuadrat adalah  25\n",
      "6  kuadrat adalah  36\n",
      "7  kuadrat adalah  49\n",
      "8  kuadrat adalah  64\n",
      "9  kuadrat adalah  81\n"
     ]
    }
   ],
   "source": [
    "for angka in range(1, 10, 1):\n",
    "    print(angka, \" kuadrat adalah \", angka ** 2)"
   ]
  },
  {
   "cell_type": "code",
   "execution_count": null,
   "metadata": {},
   "outputs": [],
   "source": [
    "nama = \"al\"\n",
    "while nama == \"al\":\n",
    "    print(\"al akan sukses!\")\n"
   ]
  },
  {
   "cell_type": "code",
   "execution_count": 4,
   "metadata": {},
   "outputs": [
    {
     "name": "stdout",
     "output_type": "stream",
     "text": [
      "5\n",
      "7\n",
      "9\n",
      "11\n",
      "13\n",
      "15\n",
      "17\n",
      "19\n",
      "selesai\n"
     ]
    }
   ],
   "source": [
    "a = 5\n",
    "while a <= 20:\n",
    "    print(a)\n",
    "    a = a + 2\n",
    "print(\"selesai\")"
   ]
  },
  {
   "cell_type": "code",
   "execution_count": 7,
   "metadata": {},
   "outputs": [
    {
     "name": "stdout",
     "output_type": "stream",
     "text": [
      "al sayang nadhira\n",
      "al sayang nadhira banget\n"
     ]
    }
   ],
   "source": [
    "def nadhira():\n",
    "    print(\"al sayang nadhira\")\n",
    "    print(\"al sayang nadhira banget\")\n",
    "\n",
    "nadhira()"
   ]
  },
  {
   "cell_type": "code",
   "execution_count": 8,
   "metadata": {},
   "outputs": [
    {
     "name": "stdout",
     "output_type": "stream",
     "text": [
      "168\n"
     ]
    }
   ],
   "source": [
    "def tambah_angka(angka1, angka2):\n",
    "    perkalian = angka1 * angka2\n",
    "    print(perkalian)\n",
    "tambah_angka(21, 8)"
   ]
  },
  {
   "cell_type": "code",
   "execution_count": 11,
   "metadata": {},
   "outputs": [
    {
     "name": "stdout",
     "output_type": "stream",
     "text": [
      "halo <function nadhira at 0x000002487803AF80>\n"
     ]
    }
   ],
   "source": [
    "def say_hallo(nama = nadhira):\n",
    "    print(f\"halo {nama}\")\n",
    "say_hallo()"
   ]
  },
  {
   "cell_type": "code",
   "execution_count": 12,
   "metadata": {},
   "outputs": [
    {
     "name": "stdout",
     "output_type": "stream",
     "text": [
      "120\n"
     ]
    }
   ],
   "source": [
    "def fungsi(input1=1, input2=2, input=3, input4=4, input5=5):\n",
    "    perkalian = input1 * input2 * input * input4 * input5\n",
    "    return(perkalian)\n",
    "print(fungsi())\n"
   ]
  },
  {
   "cell_type": "code",
   "execution_count": 15,
   "metadata": {},
   "outputs": [
    {
     "name": "stdout",
     "output_type": "stream",
     "text": [
      "nadhira fairuzia azzahwa\n"
     ]
    }
   ],
   "source": [
    "def siswa(namaawal, namaakhir):\n",
    "    print(namaawal, namaakhir)\n",
    "siswa(namaawal = \"nadhira fairuzia\", namaakhir = \"azzahwa\")"
   ]
  },
  {
   "cell_type": "code",
   "execution_count": 1,
   "metadata": {},
   "outputs": [
    {
     "name": "stdout",
     "output_type": "stream",
     "text": [
      "Angka yang Anda masukkan adalah 4 , 4 adalah bilangan genap.\n"
     ]
    }
   ],
   "source": [
    "angka = int(input(\"Masukkan angka yang Anda inginkan: \"))\n",
    "if angka % 2 == 0:\n",
    "    print(\"Angka yang Anda masukkan adalah\", angka, \",\", angka, \"adalah bilangan genap.\")\n",
    "else:\n",
    "    print(\"Angka yang Anda masukkan adalah\", angka, \",\", angka, \"adalah bilangan ganjil.\")"
   ]
  },
  {
   "cell_type": "code",
   "execution_count": 2,
   "metadata": {},
   "outputs": [
    {
     "name": "stdout",
     "output_type": "stream",
     "text": [
      "Nama Anda adalah al , umur Anda saat ini adalah 18 . Anda akan berusia 50 tahun pada tahun 2055\n"
     ]
    }
   ],
   "source": [
    "nama = str(input(\"Masukkan nama Anda: \"))\n",
    "umur = int(input(\"Masukkan umur Anda saat ini: \"))\n",
    "umur_50 = 50 - umur\n",
    "tahun_50 = 2023 + umur_50\n",
    "print(\"Nama Anda adalah\", nama, \", umur Anda saat ini adalah\", umur, \".\", \"Anda akan berusia 50 tahun pada tahun\", tahun_50)"
   ]
  },
  {
   "cell_type": "code",
   "execution_count": 6,
   "metadata": {},
   "outputs": [
    {
     "name": "stdout",
     "output_type": "stream",
     "text": [
      "[1, 2, 3, 5, 7, 11, 13, 17, 19, 23, 29, 31, 37, 41, 43, 47, 53, 59, 61, 67, 71, 73, 79, 83, 89, 97]\n"
     ]
    }
   ],
   "source": [
    "angka_awal = int(input(\"Masukkan angka awal: \"))\n",
    "angka_akhir = int(input(\"Masukkan angka akhir: \"))\n",
    "list_angka = [i for i in range(angka_awal, angka_akhir + 1)]\n",
    "bilangan_prima = []\n",
    "for i in list_angka:\n",
    "    if (i==2 or i==3 or i==5 or i==7) or (i%2 != 0 and i%3 != 0 and i%5 != 0 and i%7 != 0):\n",
    "        bilangan_prima.append(i)\n",
    "print(bilangan_prima)"
   ]
  },
  {
   "cell_type": "code",
   "execution_count": 7,
   "metadata": {},
   "outputs": [
    {
     "name": "stdout",
     "output_type": "stream",
     "text": [
      "2020 adalah Tahun Kabisat\n"
     ]
    }
   ],
   "source": [
    "# Menginput Tahun\n",
    "tahun = int(input(\"Tulis Sebuah Tahun: \"))\n",
    " \n",
    "#Perulangan Pertama\n",
    "if (tahun % 4) == 0:\n",
    " \n",
    "   #Perulangan Kedua\n",
    "   if (tahun % 100) == 0:\n",
    " \n",
    "       #Perulangan Ketiga\n",
    "       if (tahun % 400) == 0:\n",
    " \n",
    "           #Tergolong Tahun Kabisat\n",
    "           print(\"{0} adalah Tahun Kabisat\".format(tahun))\n",
    " \n",
    "       #Bukan Tergolong Tahun Kabisat\n",
    "       else:\n",
    "           print(\"{0} bukan Tahun Kabisat\".format(tahun))\n",
    " \n",
    "   #Tergolong Tahun Kabisat\n",
    "   else:\n",
    "       print(\"{0} adalah Tahun Kabisat\".format(tahun))\n",
    " \n",
    "#Bukan Tergolong Tahun Kabisat\n",
    "else:\n",
    "   print(\"{0} bukan Tahun Kabisat\".format(tahun))"
   ]
  },
  {
   "cell_type": "code",
   "execution_count": 8,
   "metadata": {},
   "outputs": [
    {
     "name": "stdout",
     "output_type": "stream",
     "text": [
      "Berikut Urutan Kata-Kata:\n",
      "al\n",
      "nadhira\n",
      "sayang\n"
     ]
    }
   ],
   "source": [
    "# Menginput Kalimat\n",
    "kalimat = input(\"Tulis Sebuah Kalimat: \")\n",
    " \n",
    "# Memecah Kalimat menjadi Kata-Kata\n",
    "kata = kalimat.split()\n",
    " \n",
    "# Mengurutkan Kata-Kata\n",
    "kata.sort()\n",
    " \n",
    "# Menampilkan Kata-Kata yang Telah Diurutkan\n",
    "print(\"Berikut Urutan Kata-Kata:\")\n",
    "for urut in kata:\n",
    "   print(urut)"
   ]
  },
  {
   "cell_type": "code",
   "execution_count": 5,
   "metadata": {},
   "outputs": [
    {
     "name": "stdout",
     "output_type": "stream",
     "text": [
      "angka sekarang adalah 0\n",
      "angka sekarang adalah 1\n",
      "angka sekarang adalah 2\n",
      "angka sekarang adalah 3\n",
      "angka sekarang adalah 4\n",
      "angka sekarang adalah 5\n",
      "istirahat\n",
      "angka sekarang adalah 6\n",
      "angka sekarang adalah 7\n",
      "angka sekarang adalah 8\n",
      "angka sekarang adalah 9\n",
      "angka sekarang adalah 10\n",
      "selesai\n"
     ]
    }
   ],
   "source": [
    "angka = 0\n",
    "print(f\"angka sekarang adalah {angka}\")\n",
    "while angka < 10:\n",
    "    angka += 1\n",
    "    print(f\"angka sekarang adalah {angka}\")\n",
    "    if angka == 5:\n",
    "        print(\"istirahat\")\n",
    "print(\"selesai\")"
   ]
  },
  {
   "cell_type": "code",
   "execution_count": 7,
   "metadata": {},
   "outputs": [
    {
     "name": "stdout",
     "output_type": "stream",
     "text": [
      "\n",
      "Huruf yang anda masukan adalah huruf vokal\n"
     ]
    }
   ],
   "source": [
    "# Program Menentukan Huruf Konsonan dan Vokal\n",
    "\n",
    "huruf = input(\"Silahkan Masukan Huruf = \")\n",
    "vokal = \"Huruf yang anda masukan adalah huruf vokal\"\n",
    "konsonan = \"huruf yang anda masukan adalah huruf konsonan\"\n",
    "\n",
    "if(huruf == \"a\", \"A\") :\n",
    "    print()\n",
    "    print(vokal)\n",
    "elif(huruf == \"i\", \"I\") :\n",
    "    print()\n",
    "    print(vokal)\n",
    "elif(huruf == \"u\", \"U\") :\n",
    "    print()\n",
    "    print(vokal)\n",
    "elif(huruf == \"e\", \"E\") :\n",
    "    print()\n",
    "    print(vokal)\n",
    "elif (huruf == \"o\", \"O\") :\n",
    "    print()\n",
    "    print(vokal)\n",
    "else :\n",
    "    print()\n",
    "    print(konsonan)"
   ]
  },
  {
   "cell_type": "code",
   "execution_count": null,
   "metadata": {},
   "outputs": [],
   "source": [
    "nama = str(input(\"masukkan nama: \"))\n",
    "umur = int(input(\"masukkan umur: \"))\n",
    "nilai = int(input(\"masukkan nilai: \"))\n",
    "print(nama)\n",
    "print(umur)\n",
    "print(nilai)\n",
    "\n",
    "if umur >= 17 and nilai >= 70:\n",
    "    print(\"Selamat Anda berhak mendapatkan Sim Anda\")\n",
    "else:\n",
    "    print(\"Maaf, Anda tidak berhak mendapatkan SIM Anda\")"
   ]
  },
  {
   "cell_type": "code",
   "execution_count": null,
   "metadata": {},
   "outputs": [],
   "source": [
    "bilangan_1 = int(input(\"Masukkan bilangan yang Anda inginkan: \"))\n",
    "bilangan_2 = int(input(\"Masukkan bilangan yang Anda inginkan: \"))\n",
    "bilangan_3 = int(input(\"Masukkan bilangan yang Anda inginkan: \"))\n",
    "if bilangan_1 >= bilangan_2 and bilangan_1 >= bilangan_3:\n",
    "  print(f\"Dari bilangan {bilangan_1}, {bilangan_2}, {bilangan_3}, bilangan terbesar adalah {bilangan_1}\")\n",
    "elif bilangan_2 >= bilangan_1 and bilangan_2 >= bilangan_3:\n",
    "  print(f\"Dari bilangan {bilangan_1}, {bilangan_2}, {bilangan_3}, bilangan terbesar adalah {bilangan_2}\")\n",
    "else:\n",
    "  print(f\"Dari bilangan {bilangan_1}, {bilangan_2}, {bilangan_3}, bilangan terbesar adalah {bilangan_3}\")"
   ]
  },
  {
   "cell_type": "code",
   "execution_count": 3,
   "metadata": {},
   "outputs": [
    {
     "name": "stdout",
     "output_type": "stream",
     "text": [
      "Jumlah bilangan ganjil adalah 2 dan jumlah bilangan genap adalah 2\n"
     ]
    }
   ],
   "source": [
    "bilangan_ganjil = int(input(\"Masukkan bilangan ganjil yang Anda inginkan: \"))\n",
    "bilangan_genap = int(input(\"Masukkan bilangan genap yang Anda inginkan: \"))\n",
    "\n",
    "jumlah_bilangan_ganjil = 0\n",
    "jumlah_bilangan_genap = 0\n",
    "\n",
    "for i in range(bilangan_ganjil,bilangan_genap+1):\n",
    "    if i % 2 == 0:\n",
    "        jumlah_bilangan_genap += 1\n",
    "    else:\n",
    "        jumlah_bilangan_ganjil +=1\n",
    "print(\"Jumlah bilangan ganjil adalah\", jumlah_bilangan_ganjil, \"dan jumlah bilangan genap adalah\", jumlah_bilangan_genap)"
   ]
  },
  {
   "cell_type": "code",
   "execution_count": 9,
   "metadata": {},
   "outputs": [
    {
     "name": "stdout",
     "output_type": "stream",
     "text": [
      "list makanan: \n",
      "sosis solo adalah makanan daerah.\n"
     ]
    }
   ],
   "source": [
    "makanan_daerah = [\"sosis solo\", \"tengkleng\", \"nasi liwet\", \"timlo\", \"serabi solo\", \"coto makassar\", \"bika ambon\", \"mie aceh\", \"kerak telor\", \"rendang\"]\n",
    "makanan = input(\"Masukkan makanan yang Anda inginkan: \")\n",
    "print(\"list makanan: \")\n",
    "for i in makanan_daerah:\n",
    "    if i == makanan:\n",
    "        break\n",
    "    print(i)\n",
    "\n",
    "if i == makanan:\n",
    "    print(makanan, \"adalah makanan daerah.\")\n",
    "else:\n",
    "    print(makanan, \"adalah bukan makanan daerah.\")"
   ]
  },
  {
   "cell_type": "code",
   "execution_count": 8,
   "metadata": {},
   "outputs": [
    {
     "name": "stdout",
     "output_type": "stream",
     "text": [
      "Maka, rata-rata dari [1.0, 2.0, 3.0, 4.0, 5.0, 6.0, 7.0] adalah 4.0\n"
     ]
    }
   ],
   "source": [
    "list_bilangan = []\n",
    "for i in range(7):\n",
    "    bilangan = float(input(\"Masukkan angka yang Anda inginkan: \"))\n",
    "    list_bilangan.append(bilangan)\n",
    "    rata_rata = sum(list_bilangan)/len(list_bilangan)\n",
    "\n",
    "print(\"Maka, rata-rata dari\", list_bilangan, \"adalah\", rata_rata)"
   ]
  },
  {
   "cell_type": "code",
   "execution_count": 6,
   "metadata": {},
   "outputs": [
    {
     "data": {
      "text/plain": [
       "[65, 42, 34, 87, 98, 100, 211, 234, 168, 5, 12, 42, 56, 88]"
      ]
     },
     "execution_count": 6,
     "metadata": {},
     "output_type": "execute_result"
    }
   ],
   "source": [
    "list_angka = [88,56,42,12,5,168,234,211,100,98,87,34,42,65]\n",
    "list_angka[::-1]\n"
   ]
  },
  {
   "cell_type": "code",
   "execution_count": null,
   "metadata": {},
   "outputs": [],
   "source": [
    "list_awal = [1,1,1,1,2,2,3,3,3,3,4,5,6,6,6,6,6,7,7,7,8,9,10]\n",
    "\n",
    "def list_unik(list_awal):\n",
    "    unique = []\n",
    "    for item in list_awal:\n",
    "        if item not in unique:\n",
    "            unique.append(item)\n",
    "    return unique\n",
    "\n",
    "list_awal = [1,1,1,1,2,2,3,3,3,3,4,5,6,6,6,6,6,7,7,7,8,9,10]\n",
    "unique = list_unik(list_awal)\n",
    "print(unique)"
   ]
  },
  {
   "cell_type": "code",
   "execution_count": null,
   "metadata": {},
   "outputs": [],
   "source": [
    "def tambah_angka(angka1, angka2, angka3):\n",
    "    if angka1 >= angka2 and angka1 >= angka3:\n",
    "        print(f\"Dari bilangan {angka1}, {angka2}, {angka3}, bilangan terbesar adalah {angka1}\")\n",
    "    elif angka2 >= angka1 and angka2 >= angka3:\n",
    "        print(f\"Dari bilangan {angka1}, {angka2}, {angka3}, bilangan terbesar adalah {angka2}\")\n",
    "    else:\n",
    "        print(f\"Dari bilangan {angka1}, {angka2}, {angka3}, bilangan terbesar adalah {angka3}\")\n",
    "tambah_angka(9, 2, 5)"
   ]
  },
  {
   "cell_type": "code",
   "execution_count": 7,
   "metadata": {},
   "outputs": [
    {
     "name": "stdout",
     "output_type": "stream",
     "text": [
      "42\n",
      "34\n",
      "98\n",
      "100\n",
      "234\n",
      "168\n",
      "12\n",
      "42\n",
      "56\n",
      "88\n"
     ]
    }
   ],
   "source": [
    "list_angka = [88,56,42,12,5,168,234,211,100,98,87,34,42,65]\n",
    "\n",
    "even_nums = list(filter(lambda x: x % 2 == 0, list_angka))\n",
    "even_nums.reverse()\n",
    "\n",
    "for num in even_nums:\n",
    "    print(num)"
   ]
  },
  {
   "cell_type": "code",
   "execution_count": 8,
   "metadata": {},
   "outputs": [
    {
     "name": "stdout",
     "output_type": "stream",
     "text": [
      "65\n",
      "87\n",
      "211\n",
      "5\n"
     ]
    }
   ],
   "source": [
    "list_angka = [88,56,42,12,5,168,234,211,100,98,87,34,42,65]\n",
    "\n",
    "even_nums = list(filter(lambda x: x % 2 == 1, list_angka))\n",
    "even_nums.reverse()\n",
    "\n",
    "for num in even_nums:\n",
    "    print(num)"
   ]
  },
  {
   "cell_type": "code",
   "execution_count": 9,
   "metadata": {},
   "outputs": [
    {
     "name": "stdout",
     "output_type": "stream",
     "text": [
      "[100, 54, 33, 22, 11, 10, 8, 7, 3]\n"
     ]
    }
   ],
   "source": [
    "# a list of numbers\n",
    "my_numbers = [10, 8, 3, 22, 33, 7, 11, 100, 54]\n",
    "\n",
    "#sort list in-place in descending order\n",
    "my_numbers.sort(reverse=True)\n",
    "\n",
    "#print modified list\n",
    "print(my_numbers)"
   ]
  },
  {
   "cell_type": "code",
   "execution_count": 10,
   "metadata": {},
   "outputs": [
    {
     "name": "stdout",
     "output_type": "stream",
     "text": [
      "[3, 7, 8, 10, 11, 22, 33, 54, 100]\n"
     ]
    }
   ],
   "source": [
    "# a list of numbers\n",
    "my_numbers = [10, 8, 3, 22, 33, 7, 11, 100, 54]\n",
    "\n",
    "#sort list in-place in descending order\n",
    "my_numbers.sort(reverse=False)\n",
    "\n",
    "#print modified list\n",
    "print(my_numbers)"
   ]
  },
  {
   "cell_type": "code",
   "execution_count": 2,
   "metadata": {},
   "outputs": [
    {
     "ename": "TypeError",
     "evalue": "can only concatenate str (not \"int\") to str",
     "output_type": "error",
     "traceback": [
      "\u001b[1;31m---------------------------------------------------------------------------\u001b[0m",
      "\u001b[1;31mTypeError\u001b[0m                                 Traceback (most recent call last)",
      "Cell \u001b[1;32mIn[2], line 3\u001b[0m\n\u001b[0;32m      1\u001b[0m huruf \u001b[39m=\u001b[39m \u001b[39mstr\u001b[39m(\u001b[39minput\u001b[39m(\u001b[39m\"\u001b[39m\u001b[39mMasukkan huruf yang ada di NIM Anda: \u001b[39m\u001b[39m\"\u001b[39m))\n\u001b[0;32m      2\u001b[0m angka \u001b[39m=\u001b[39m \u001b[39mint\u001b[39m(\u001b[39minput\u001b[39m(\u001b[39m\"\u001b[39m\u001b[39mMasukkan angka-angka yang ada di NIM Anda: \u001b[39m\u001b[39m\"\u001b[39m))\n\u001b[1;32m----> 3\u001b[0m NIM \u001b[39m=\u001b[39m \u001b[39mstr\u001b[39;49m(huruf) \u001b[39m+\u001b[39;49m \u001b[39mint\u001b[39;49m(angka)\n\u001b[0;32m      4\u001b[0m \u001b[39mprint\u001b[39m(NIM)\n",
      "\u001b[1;31mTypeError\u001b[0m: can only concatenate str (not \"int\") to str"
     ]
    }
   ],
   "source": [
    "huruf = str(input(\"Masukkan huruf yang ada di NIM Anda: \"))\n",
    "angka = int(input(\"Masukkan angka-angka yang ada di NIM Anda: \"))\n",
    "NIM = str(huruf) + int(angka)\n",
    "print(NIM)"
   ]
  }
 ],
 "metadata": {
  "kernelspec": {
   "display_name": "Python 3",
   "language": "python",
   "name": "python3"
  },
  "language_info": {
   "codemirror_mode": {
    "name": "ipython",
    "version": 3
   },
   "file_extension": ".py",
   "mimetype": "text/x-python",
   "name": "python",
   "nbconvert_exporter": "python",
   "pygments_lexer": "ipython3",
   "version": "3.10.8"
  },
  "orig_nbformat": 4
 },
 "nbformat": 4,
 "nbformat_minor": 2
}
