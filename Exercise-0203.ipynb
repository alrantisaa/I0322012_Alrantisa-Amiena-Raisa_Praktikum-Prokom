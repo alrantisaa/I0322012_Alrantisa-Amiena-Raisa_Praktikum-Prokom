{
 "cells": [
  {
   "cell_type": "code",
   "execution_count": 1,
   "metadata": {},
   "outputs": [
    {
     "name": "stdout",
     "output_type": "stream",
     "text": [
      "Alrantisa Amiena Raisa\n",
      "I0322012\n",
      "A\n"
     ]
    }
   ],
   "source": [
    "print(input(\"Nama: \"))\n",
    "print(input(\"NIM: \"))\n",
    "print(input(\"Kelas: \"))"
   ]
  },
  {
   "attachments": {},
   "cell_type": "markdown",
   "metadata": {},
   "source": [
    "## 1."
   ]
  },
  {
   "attachments": {},
   "cell_type": "markdown",
   "metadata": {},
   "source": [
    "buatlah program sederhana untuk menghitung umur pengguna dengan ketentuan sebagai berikut :\n",
    "* Program meminta pengguna memasukan tanggal, bulan, dan tahun lahir\n",
    "* Program menghitung umur pengguna hingga tanggal 1 januari 2023\n",
    "* Program menampilkan umur dari pengguna"
   ]
  },
  {
   "cell_type": "code",
   "execution_count": 2,
   "metadata": {},
   "outputs": [
    {
     "name": "stdout",
     "output_type": "stream",
     "text": [
      "Alrantisa\n",
      "====================\n",
      "Anda lahir pada tanggal 21 dan pada bulan 8 . Jadi umur Anda saat ini adalah 19 tahun.\n"
     ]
    }
   ],
   "source": [
    "nama = input(\"Masukkan nama anda :\")\n",
    "tanggal = int(input(\"Masukkan tanggal kelahiran\"))\n",
    "bulan = int(input(\"Masukkan bulan kelahiran\"))\n",
    "tahun = int(input(\"Masukkan tahun kelahiran\"))\n",
    "\n",
    "tahun_sekarang = 2023\n",
    "umur = (tahun_sekarang - tahun)\n",
    "print(nama)\n",
    "print(\"=\"*20)\n",
    "print(\"Anda lahir pada tanggal\", tanggal, \"dan pada bulan\", bulan, \".\", \"Jadi umur Anda saat ini adalah\", umur, \"tahun.\")"
   ]
  },
  {
   "attachments": {},
   "cell_type": "markdown",
   "metadata": {},
   "source": [
    "## 2."
   ]
  },
  {
   "attachments": {},
   "cell_type": "markdown",
   "metadata": {},
   "source": [
    "Pada 2015, wabah flu burung menyerang Indonesia dan beberapa peternak ayam mengalami kerugian karena banyaknya ayam yang mati. Setiap bulan, jumlah ayamnya berkurang menjadi setengah. Setelah dua bulan, jumlah ayam yang tersisa adalah 200 ekor. Hitunglah jumlah ayam sebelumnya yang dimiliki peternak tersebut! (gunakan rumus deret geometri)\n",
    "\n",
    "> *note: SOAL DIATAS DIKERJAKAN SESUAI DENGAN RUMUS BAKU*"
   ]
  },
  {
   "cell_type": "code",
   "execution_count": 14,
   "metadata": {},
   "outputs": [
    {
     "name": "stdout",
     "output_type": "stream",
     "text": [
      "Jumlah akhir ayam adalah =  200\n",
      "Jumlah awal ayam =  800.0\n",
      "Jadi, jumlah ayam peternak setelah terkena wabah flu burung adalah =  200 ekor ayam. \n"
     ]
    }
   ],
   "source": [
    "ayam_yang_tersisa = 200 \n",
    "waktu = 2 \n",
    "\n",
    "# Rumus Deret Geometri\n",
    "# Un = a*r**(n-1)\n",
    "# a = \"jumlah awal ayam\"\n",
    "# r = 1/2\n",
    "# n-1 = 2\n",
    "# a = Un/(r**(n-1))\n",
    "\n",
    "a = 200/((1/2)**2)\n",
    "print(\"Jumlah akhir ayam adalah = \", ayam_yang_tersisa)\n",
    "print(\"Jumlah awal ayam = \", a)\n",
    "print(\"Jadi, jumlah ayam peternak setelah terkena wabah flu burung adalah = \", ayam_yang_tersisa, \"ekor ayam. \")"
   ]
  },
  {
   "attachments": {},
   "cell_type": "markdown",
   "metadata": {},
   "source": [
    "## 3. "
   ]
  },
  {
   "attachments": {},
   "cell_type": "markdown",
   "metadata": {},
   "source": [
    "* **A** Hitunglah luas Prisma Segitiga dengan ketentuan sebagai berikut:\n",
    "    * Alas dan tutup prisma merupakan segitiga\n",
    "    * Terdapat 3 persegi panjang yang menyinggung alas dan tutup prisma\n",
    "    * Sisi persegi panjang yang menyinggung segitiga adalah sisi lebar\n",
    "```python\n",
    "    dictionary_figure = {\"Persegi\":{\"Sisi\":22},\n",
    "                        \"Persegi Panjang\":{\"Panjang\":10,\"Lebar\":5},\n",
    "                        \"Segitiga Sama Sisi\":{\"Sisi\":6,\"Tinggi\":3**(1/2) * 3},\n",
    "                        \"Lingkaran\":{\"Diameter\":7}}\n",
    "```\n",
    "* **B** Hitunglah luas Tabung dengan ketentuan sebagai berikut:\n",
    "    * Alas dan tutup tabung merupakan lingkaran\n",
    "    * Terdapat 1 persegi yang menyinggung alas dan tutup tabung\n",
    "    * Persegi yang ada mengelilingi lingkaran hingga sisi dari persegi saling bertemu\n",
    "\n",
    "> *note: Pada soal ini kalian hanya boleh menggunakan key-value pair dan index pada list. Tidak diperbolehkan menulis secara langsung dimensi dari figure*"
   ]
  },
  {
   "cell_type": "code",
   "execution_count": 8,
   "metadata": {},
   "outputs": [
    {
     "name": "stdout",
     "output_type": "stream",
     "text": [
      "luas prisma segitiga adalah 181.1769145362398 cm^3\n"
     ]
    }
   ],
   "source": [
    "dictionary_figure = {\"Persegi\":{\"Sisi\":22},\n",
    "                    \"Persegi Panjang\":{\"Panjang\":10,\"Lebar\":5},\n",
    "                    \"Segitiga Sama Sisi\":{\"Sisi\":6, \"Tinggi\":3**(1/2) * 3},\n",
    "                    \"Lingkaran\":{\"Diameter\":7}}\n",
    "alas_prisma = 1/2*dictionary_figure[\"Segitiga Sama Sisi\"][\"Sisi\"]*dictionary_figure[\"Segitiga Sama Sisi\"][\"Tinggi\"]\n",
    "selimut_prisma = dictionary_figure[\"Persegi Panjang\"][\"Panjang\"]*dictionary_figure[\"Persegi Panjang\"][\"Lebar\"]\n",
    "luas_prisma_segitiga = 2*alas_prisma + 3*selimut_prisma\n",
    "\n",
    "print(\"luas prisma segitiga adalah\", luas_prisma_segitiga, \"cm^3\")"
   ]
  },
  {
   "cell_type": "code",
   "execution_count": 9,
   "metadata": {},
   "outputs": [
    {
     "name": "stdout",
     "output_type": "stream",
     "text": [
      "luas tabung adalah 560.9300000000001 cm^3\n"
     ]
    }
   ],
   "source": [
    "dictionary_figure = {\"Persegi\":{\"Sisi\":22},\n",
    "                    \"Persegi Panjang\":{\"Panjang\":10,\"Lebar\":5},\n",
    "                    \"Segitiga Sama Sisi\":{\"Sisi\":6, \"Tinggi\":3**(1/2) * 3},\n",
    "                    \"Lingkaran\":{\"Diameter\":7}}\n",
    "alas_lingkaran = 1/4*3.14*dictionary_figure[\"Lingkaran\"][\"Diameter\"]**2\n",
    "selimut_tabung = dictionary_figure[\"Persegi\"][\"Sisi\"]*dictionary_figure[\"Persegi\"][\"Sisi\"]\n",
    "luas_tabung = 2*alas_lingkaran + selimut_tabung\n",
    "\n",
    "print(\"luas tabung adalah\", luas_tabung, \"cm^3\")"
   ]
  }
 ],
 "metadata": {
  "kernelspec": {
   "display_name": "Python 3",
   "language": "python",
   "name": "python3"
  },
  "language_info": {
   "codemirror_mode": {
    "name": "ipython",
    "version": 3
   },
   "file_extension": ".py",
   "mimetype": "text/x-python",
   "name": "python",
   "nbconvert_exporter": "python",
   "pygments_lexer": "ipython3",
   "version": "3.10.8"
  },
  "orig_nbformat": 4,
  "vscode": {
   "interpreter": {
    "hash": "5addf786bcd861d1ce5006f23111f8cbb206731e5b61b0a5632ba9e0252558a8"
   }
  }
 },
 "nbformat": 4,
 "nbformat_minor": 2
}
