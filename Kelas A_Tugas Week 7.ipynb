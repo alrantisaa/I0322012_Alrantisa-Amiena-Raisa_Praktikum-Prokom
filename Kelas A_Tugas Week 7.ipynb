{
 "cells": [
  {
   "cell_type": "code",
   "execution_count": 2,
   "metadata": {},
   "outputs": [
    {
     "name": "stdout",
     "output_type": "stream",
     "text": [
      "12 12 \n",
      "12 12 \n"
     ]
    },
    {
     "data": {
      "text/plain": [
       "[[12, 12], [12, 12]]"
      ]
     },
     "execution_count": 2,
     "metadata": {},
     "output_type": "execute_result"
    }
   ],
   "source": [
    "#Buatlah sebuah fungsi untuk membuat matrix berdasarkan input dari user\n",
    "\n",
    "def create_matrix(baris,kolom):\n",
    "    matrix = []\n",
    "    for i in range(baris):\n",
    "        matrix.append([])\n",
    "        for j in range(kolom):\n",
    "            elemen = int(input(f\"Masukkan elemen matriks[{i}][{j}]: \"))\n",
    "            matrix[i].append(elemen)\n",
    "\n",
    "    for i in range(baris):\n",
    "        for j in range(kolom):\n",
    "            print(matrix[i][j], end=\" \")\n",
    "        print()\n",
    "\n",
    "    return matrix\n",
    "\n",
    "\n",
    "baris = int(input('Masukkan Jumlah Baris:\\t'))\n",
    "kolom = int(input('Masukkan Jumlah Kolom:\\t'))\n",
    "\n",
    "create_matrix(baris,kolom)"
   ]
  },
  {
   "cell_type": "code",
   "execution_count": 2,
   "metadata": {},
   "outputs": [
    {
     "name": "stdout",
     "output_type": "stream",
     "text": [
      "\n",
      "NILAI MATRIX A: \n",
      "12 12 \n",
      "12 12 \n",
      "\n",
      "NILAI MATRIX B: \n",
      "12 12 \n",
      "12 12 \n",
      "\n",
      "HASIL PENJUMLAHAN\n",
      "24 24 \n",
      "24 24 \n"
     ]
    },
    {
     "data": {
      "text/plain": [
       "[[24, 24], [24, 24]]"
      ]
     },
     "execution_count": 2,
     "metadata": {},
     "output_type": "execute_result"
    }
   ],
   "source": [
    "#Buatlah sebuah fungsi untuk menambah dua matrix berdasarkan input user\n",
    "\n",
    "def tambah_matrix(matrix1,matrix2):\n",
    "    tambah = []\n",
    "    for i in range(len(matrix1)):\n",
    "        tambah.append([])\n",
    "        for j in range(len(matrix1[0])):\n",
    "            jumlah = matrix1[i][j] + matrix2[i][j]\n",
    "            tambah[i].append(jumlah)\n",
    "    print(\"\\nHASIL PENJUMLAHAN\")\n",
    "    for i in range(len(tambah)):\n",
    "        for j in range(len(tambah[0])):\n",
    "            print(tambah[i][j], end=\" \")\n",
    "        print()\n",
    "    return tambah\n",
    "\n",
    "baris = int(input(\"Masukkan jumlah baris:\\t\"))\n",
    "kolom = int(input(\"Masukkan jumlah kolom:\\t\"))\n",
    "\n",
    "matrixA = []\n",
    "for a in range(baris):\n",
    "    matrixA.append([])\n",
    "    for b in range(kolom):\n",
    "        nilai = int(input(f\"Masukkan matrix A [{a}][{b}] = \"))\n",
    "        matrixA[a].append(nilai)\n",
    "print(\"\\nNILAI MATRIX A: \")\n",
    "for a in range(len(matrixA)):\n",
    "    for b in range(len(matrixA)):\n",
    "        print(matrixA[a][b], end=\" \")\n",
    "    print()\n",
    "\n",
    "matrixB = []\n",
    "for a in range(baris):\n",
    "    matrixB.append([])\n",
    "    for b in range(kolom):\n",
    "        nilai = int(input(f\"Masukkan matrix B [{a}][{b}] = \"))\n",
    "        matrixB[a].append(nilai)\n",
    "print(\"\\nNILAI MATRIX B: \")\n",
    "for a in range(len(matrixB)):\n",
    "    for b in range(len(matrixB[0])):\n",
    "        print(matrixB[a][b], end=\" \")\n",
    "    print()\n",
    "tambah_matrix(matrixA, matrixB)"
   ]
  },
  {
   "cell_type": "code",
   "execution_count": 3,
   "metadata": {},
   "outputs": [
    {
     "name": "stdout",
     "output_type": "stream",
     "text": [
      "\n",
      "NILAI MATRIX 1: \n",
      "12 12 \n",
      "12 12 \n",
      "\n",
      "NILAI MATRIX 2: \n",
      "12 12 \n",
      "12 12 \n",
      "\n",
      "HASIL PERKALIAN MATRIX A DAN MATRIX B = \n",
      "288 288 \n",
      "288 288 \n"
     ]
    },
    {
     "data": {
      "text/plain": [
       "[[288, 288], [288, 288]]"
      ]
     },
     "execution_count": 3,
     "metadata": {},
     "output_type": "execute_result"
    }
   ],
   "source": [
    "#Buatlah fungsi untuk mengakalikan dua buah matrix berdasarkan input user\n",
    "\n",
    "def multiply_matrix(matrix1, matrix2):\n",
    "    result=[]\n",
    "    for a in range(0, len(matrix1)):\n",
    "        row = []\n",
    "        for b in range(0, len(matrix1[0])):\n",
    "            total = 0\n",
    "            for c in range(0, len(matrix1)):\n",
    "                total = total + (matrix1[a][c] * matrix2[c][b])\n",
    "            row.append(total)\n",
    "        result.append(row)\n",
    "    print(\"\\nHASIL PERKALIAN MATRIX A DAN MATRIX B = \")\n",
    "    for a in range(0, len(result)):\n",
    "        for b in range(0, len(result[0])):\n",
    "            print (result[a][b], end=\" \")\n",
    "        print()\n",
    "    return result\n",
    "\n",
    "matrix1 = []\n",
    "for a in range(baris):\n",
    "    matrix1.append([])\n",
    "    for b in range(kolom):\n",
    "        nilai = int(input(f\"Masukkan Matrix 1 [{a}][{b}] = \"))\n",
    "        matrix1[a].append(nilai)\n",
    "print(\"\\nNILAI MATRIX 1: \")\n",
    "for a in range(len(matrix1)):\n",
    "    for b in range(len(matrix1[0])):\n",
    "        print(matrix1[a][b], end=\" \")\n",
    "    print()\n",
    "\n",
    "matrix2 = []\n",
    "for a in range(baris):\n",
    "    matrix2.append([])\n",
    "    for b in range(kolom):\n",
    "        nilai = int(input(f\"Masukkan matrix 2 [{a}][{b}] = \"))\n",
    "        matrix2[a].append(nilai)\n",
    "print(\"\\nNILAI MATRIX 2: \")\n",
    "for a in range(len(matrix2)):\n",
    "    for b in range(len(matrix2[0])):\n",
    "        print(matrix2[a][b], end=\" \")\n",
    "    print()\n",
    "\n",
    "multiply_matrix(matrix1, matrix2)"
   ]
  }
 ],
 "metadata": {
  "kernelspec": {
   "display_name": "Python 3",
   "language": "python",
   "name": "python3"
  },
  "language_info": {
   "codemirror_mode": {
    "name": "ipython",
    "version": 3
   },
   "file_extension": ".py",
   "mimetype": "text/x-python",
   "name": "python",
   "nbconvert_exporter": "python",
   "pygments_lexer": "ipython3",
   "version": "3.10.8"
  },
  "orig_nbformat": 4
 },
 "nbformat": 4,
 "nbformat_minor": 2
}
