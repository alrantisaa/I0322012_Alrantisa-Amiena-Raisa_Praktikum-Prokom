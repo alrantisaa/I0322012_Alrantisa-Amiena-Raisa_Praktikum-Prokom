{
 "cells": [
  {
   "attachments": {},
   "cell_type": "markdown",
   "metadata": {},
   "source": [
    "1. Buatlah program untuk menampilkan total penjumlahan bilangan ganjil dan total penjumlahan bilangan genap dengan input dari user berupa range (batas atas dan batas bawah)!"
   ]
  },
  {
   "cell_type": "code",
   "execution_count": 23,
   "metadata": {},
   "outputs": [
    {
     "name": "stdout",
     "output_type": "stream",
     "text": [
      "Jumlah bilangan ganjil adalah 49 dan jumlah bilangan genap adalah 50\n"
     ]
    }
   ],
   "source": [
    "bilangan_ganjil = int(input(\"Masukkan bilangan ganjil yang Anda inginkan: \"))\n",
    "bilangan_genap = int(input(\"Masukkan bilangan genap yang Anda inginkan: \"))\n",
    "\n",
    "jumlah_bilangan_ganjil = 0\n",
    "jumlah_bilangan_genap = 0\n",
    "\n",
    "for i in range(bilangan_ganjil,bilangan_genap+1):\n",
    "    if i % 2 == 0:\n",
    "        jumlah_bilangan_genap += 1\n",
    "    else:\n",
    "        jumlah_bilangan_ganjil +=1\n",
    "print(\"Jumlah bilangan ganjil adalah\", jumlah_bilangan_ganjil, \"dan jumlah bilangan genap adalah\", jumlah_bilangan_genap)"
   ]
  },
  {
   "attachments": {},
   "cell_type": "markdown",
   "metadata": {},
   "source": [
    "2. Buatlah sebuah list yang berisi daftar makanan khas daerah (minimal 10 makanan termasuk makanan khas Solo). Kemudian buat program pencarian menggunakan pengulangan. Apabila nama makanan yang user inputkan sudah sesuai dengan isi list maka program akan berhenti dan menampilkan output \"(makanan yang diinput user) adalah makanan khas daerah\"."
   ]
  },
  {
   "cell_type": "code",
   "execution_count": 19,
   "metadata": {},
   "outputs": [
    {
     "name": "stdout",
     "output_type": "stream",
     "text": [
      "list makanan: \n",
      "sosis solo\n",
      "tengkleng\n",
      "nasi liwet\n",
      "timlo\n",
      "serabi solo\n",
      "coto makassar\n",
      "bika ambon\n",
      "mie aceh\n",
      "kerak telor\n",
      "rendang\n",
      "ayam keprabon adalah bukan makanan daerah.\n"
     ]
    }
   ],
   "source": [
    "makanan_daerah = [\"sosis solo\", \"tengkleng\", \"nasi liwet\", \"timlo\", \"serabi solo\", \"coto makassar\", \"bika ambon\", \"mie aceh\", \"kerak telor\", \"rendang\"]\n",
    "makanan = input(\"Masukkan makanan yang Anda inginkan: \")\n",
    "print(\"list makanan: \")\n",
    "for i in makanan_daerah:\n",
    "    if i == makanan:\n",
    "        break\n",
    "    print(i)\n",
    "\n",
    "if i == makanan:\n",
    "    print(makanan, \"adalah makanan daerah.\")\n",
    "else:\n",
    "    print(makanan, \"adalah bukan makanan daerah.\")\n",
    "\n"
   ]
  },
  {
   "attachments": {},
   "cell_type": "markdown",
   "metadata": {},
   "source": [
    "3. Buatlah program untuk menghitung rata-rata 7 bilangan dimana bilangan-bilangan tersebut didapat melalui input user!"
   ]
  },
  {
   "cell_type": "code",
   "execution_count": 17,
   "metadata": {},
   "outputs": [
    {
     "name": "stdout",
     "output_type": "stream",
     "text": [
      "Maka, rata-rata dari [1.0, 2.0, 3.0, 4.0, 5.0, 6.0, 7.0] adalah 4.0\n"
     ]
    }
   ],
   "source": [
    "list_bilangan = []\n",
    "for i in range(7):\n",
    "    bilangan = float(input(\"Masukkan angka yang Anda inginkan: \"))\n",
    "    list_bilangan.append(bilangan)\n",
    "    rata_rata = sum(list_bilangan)/len(list_bilangan)\n",
    "\n",
    "print(\"Maka, rata-rata dari\", list_bilangan, \"adalah\", rata_rata)"
   ]
  }
 ],
 "metadata": {
  "kernelspec": {
   "display_name": "Python 3",
   "language": "python",
   "name": "python3"
  },
  "language_info": {
   "codemirror_mode": {
    "name": "ipython",
    "version": 3
   },
   "file_extension": ".py",
   "mimetype": "text/x-python",
   "name": "python",
   "nbconvert_exporter": "python",
   "pygments_lexer": "ipython3",
   "version": "3.10.8"
  },
  "orig_nbformat": 4
 },
 "nbformat": 4,
 "nbformat_minor": 2
}
