{
 "cells": [
  {
   "cell_type": "code",
   "execution_count": 1,
   "metadata": {},
   "outputs": [
    {
     "name": "stdout",
     "output_type": "stream",
     "text": [
      "Alrantisa Amiena Raisa\n",
      "I0322012\n",
      "A\n"
     ]
    }
   ],
   "source": [
    "print(input(\"Nama: \"))\n",
    "print(input(\"NIM: \"))\n",
    "print(input(\"Kelas: \"))"
   ]
  },
  {
   "attachments": {},
   "cell_type": "markdown",
   "metadata": {},
   "source": [
    "## 1."
   ]
  },
  {
   "attachments": {},
   "cell_type": "markdown",
   "metadata": {},
   "source": [
    "Buatlah program persyaratan pembuatan SIM dengan input yaitu nama user, umur user, dan nilai tes user.<br>\n",
    "Dengan ketentuan mendapat SIM sebagai berikut:\n",
    "* Umur dari user harus lebih dari sama dengan 17 tahun\n",
    "* Nilai tes lebih dari sama dengan 70\n",
    "\n",
    "<br>Output yang dihasilkan dari program adalah:\n",
    "<br>\"Selamat Anda Berhak Mendapatkan SIM Anda\"\n",
    "<br>\"Maaf, Anda tidak berhak mendapatkan SIM anda\"\n",
    "> *note: Kerjakan soal ini dengan percabangan*"
   ]
  },
  {
   "cell_type": "code",
   "execution_count": 17,
   "metadata": {},
   "outputs": [
    {
     "name": "stdout",
     "output_type": "stream",
     "text": [
      "al\n",
      "15\n",
      "80\n",
      "Maaf, Anda tidak berhak mendapatkan SIM Anda\n"
     ]
    }
   ],
   "source": [
    "nama = str(input(\"masukkan nama: \"))\n",
    "umur = int(input(\"masukkan umur: \"))\n",
    "nilai = int(input(\"masukkan nilai: \"))\n",
    "print(nama)\n",
    "print(umur)\n",
    "print(nilai)\n",
    "\n",
    "if umur >= 17 and nilai >= 70:\n",
    "    print(\"Selamat Anda berhak mendapatkan Sim Anda\")\n",
    "else:\n",
    "    print(\"Maaf, Anda tidak berhak mendapatkan SIM Anda\")"
   ]
  },
  {
   "attachments": {},
   "cell_type": "markdown",
   "metadata": {},
   "source": [
    "## 2."
   ]
  },
  {
   "attachments": {},
   "cell_type": "markdown",
   "metadata": {},
   "source": [
    "Buatlah program untuk mencari bilangan terbesar yang diinput dari user.<br>\n",
    "<br>Dengan ketentuan sebagai berikut:\n",
    "* Program nenerima 3 input bilangan dari user\n",
    "* Program akan menentukan mana bilangan terbesar\n",
    "* Output yang akan dihasilkan misalnya adalah \"Dari bil_1, bil_2, dan bil_3, bilangan terbesarnya adalah bilangan bil_2\"\n",
    "> *note: Kerjakan soal ini dengan percabangan*"
   ]
  },
  {
   "cell_type": "code",
   "execution_count": 17,
   "metadata": {},
   "outputs": [
    {
     "name": "stdout",
     "output_type": "stream",
     "text": [
      "Dari bilangan 2, 1, 3, bilangan terbesar adalah 3\n"
     ]
    }
   ],
   "source": [
    "bilangan_1 = int(input(\"Masukkan bilangan yang Anda inginkan: \"))\n",
    "bilangan_2 = int(input(\"Masukkan bilangan yang Anda inginkan: \"))\n",
    "bilangan_3 = int(input(\"Masukkan bilangan yang Anda inginkan: \"))\n",
    "if bilangan_1 >= bilangan_2 and bilangan_2 >= bilangan_3:\n",
    "  print(f\"Dari bilangan {bilangan_1}, {bilangan_2}, {bilangan_3}, bilangan terbesar adalah {bilangan_1}\")\n",
    "elif bilangan_2 >= bilangan_1 and bilangan_2 >= bilangan_3:\n",
    "  print(f\"Dari bilangan {bilangan_1}, {bilangan_2}, {bilangan_3}, bilangan terbesar adalah {bilangan_2}\")\n",
    "else:\n",
    "  print(f\"Dari bilangan {bilangan_1}, {bilangan_2}, {bilangan_3}, bilangan terbesar adalah {bilangan_3}\")\n",
    "  "
   ]
  }
 ],
 "metadata": {
  "kernelspec": {
   "display_name": "Python 3",
   "language": "python",
   "name": "python3"
  },
  "language_info": {
   "codemirror_mode": {
    "name": "ipython",
    "version": 3
   },
   "file_extension": ".py",
   "mimetype": "text/x-python",
   "name": "python",
   "nbconvert_exporter": "python",
   "pygments_lexer": "ipython3",
   "version": "3.10.8"
  },
  "orig_nbformat": 4
 },
 "nbformat": 4,
 "nbformat_minor": 2
}
